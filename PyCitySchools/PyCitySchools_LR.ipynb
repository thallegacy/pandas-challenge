{
 "cells": [
  {
   "cell_type": "markdown",
   "metadata": {},
   "source": [
    "### Note\n",
    "* Instructions have been included for each segment. You do not have to follow them exactly, but they are included to help you think through the steps."
   ]
  },
  {
   "cell_type": "code",
   "execution_count": 1,
   "metadata": {},
   "outputs": [],
   "source": [
    "# Dependencies and Setup\n",
    "import pandas as pd\n",
    "\n",
    "# File to Load (Remember to Change These)\n",
    "school_data_to_load = \"Resources/schools_complete.csv\"\n",
    "student_data_to_load = \"Resources/students_complete.csv\"\n",
    "\n",
    "# Read School and Student Data File and store into Pandas DataFrames\n",
    "school_data = pd.read_csv(school_data_to_load)\n",
    "student_data = pd.read_csv(student_data_to_load)\n",
    "\n",
    "# Combine the data into a single dataset.  \n",
    "school_data_complete = pd.merge(student_data, school_data, how=\"left\", on=[\"school_name\", \"school_name\"])"
   ]
  },
  {
   "cell_type": "markdown",
   "metadata": {},
   "source": [
    "## District Summary\n",
    "\n",
    "* Calculate the total number of schools\n",
    "\n",
    "* Calculate the total number of students\n",
    "\n",
    "* Calculate the total budget\n",
    "\n",
    "* Calculate the average math score \n",
    "\n",
    "* Calculate the average reading score\n",
    "\n",
    "* Calculate the percentage of students with a passing math score (70 or greater)\n",
    "\n",
    "* Calculate the percentage of students with a passing reading score (70 or greater)\n",
    "\n",
    "* Calculate the percentage of students who passed math **and** reading (% Overall Passing)\n",
    "\n",
    "* Create a dataframe to hold the above results\n",
    "\n",
    "* Optional: give the displayed data cleaner formatting"
   ]
  },
  {
   "cell_type": "code",
   "execution_count": 2,
   "metadata": {},
   "outputs": [
    {
     "output_type": "execute_result",
     "data": {
      "text/plain": [
       "Index(['Student ID', 'student_name', 'gender', 'grade', 'school_name',\n",
       "       'reading_score', 'math_score', 'School ID', 'type', 'size', 'budget'],\n",
       "      dtype='object')"
      ]
     },
     "metadata": {},
     "execution_count": 2
    }
   ],
   "source": [
    "#See the list of columns within newly combine dataframe\n",
    "school_data_complete.columns"
   ]
  },
  {
   "cell_type": "code",
   "execution_count": 3,
   "metadata": {},
   "outputs": [
    {
     "output_type": "execute_result",
     "data": {
      "text/plain": [
       "Index(['Student ID', 'student_name', 'gender', 'grade', 'school_name',\n",
       "       'reading_score', 'math_score'],\n",
       "      dtype='object')"
      ]
     },
     "metadata": {},
     "execution_count": 3
    }
   ],
   "source": [
    "#See the list of columns from the school dataframe\n",
    "student_data.columns"
   ]
  },
  {
   "cell_type": "code",
   "execution_count": 4,
   "metadata": {},
   "outputs": [
    {
     "output_type": "execute_result",
     "data": {
      "text/plain": [
       "Index(['School ID', 'school_name', 'type', 'size', 'budget'], dtype='object')"
      ]
     },
     "metadata": {},
     "execution_count": 4
    }
   ],
   "source": [
    "#See the list of columns from the student dataframe\n",
    "school_data.columns"
   ]
  },
  {
   "cell_type": "code",
   "execution_count": 5,
   "metadata": {},
   "outputs": [
    {
     "output_type": "execute_result",
     "data": {
      "text/plain": [
       "   Student ID       student_name gender grade        school_name  \\\n",
       "0           0       Paul Bradley      M   9th  Huang High School   \n",
       "1           1       Victor Smith      M  12th  Huang High School   \n",
       "2           2    Kevin Rodriguez      M  12th  Huang High School   \n",
       "3           3  Dr. Richard Scott      M  12th  Huang High School   \n",
       "4           4         Bonnie Ray      F   9th  Huang High School   \n",
       "\n",
       "   reading_score  math_score  School ID      type  size   budget  \n",
       "0             66          79          0  District  2917  1910635  \n",
       "1             94          61          0  District  2917  1910635  \n",
       "2             90          60          0  District  2917  1910635  \n",
       "3             67          58          0  District  2917  1910635  \n",
       "4             97          84          0  District  2917  1910635  "
      ],
      "text/html": "<div>\n<style scoped>\n    .dataframe tbody tr th:only-of-type {\n        vertical-align: middle;\n    }\n\n    .dataframe tbody tr th {\n        vertical-align: top;\n    }\n\n    .dataframe thead th {\n        text-align: right;\n    }\n</style>\n<table border=\"1\" class=\"dataframe\">\n  <thead>\n    <tr style=\"text-align: right;\">\n      <th></th>\n      <th>Student ID</th>\n      <th>student_name</th>\n      <th>gender</th>\n      <th>grade</th>\n      <th>school_name</th>\n      <th>reading_score</th>\n      <th>math_score</th>\n      <th>School ID</th>\n      <th>type</th>\n      <th>size</th>\n      <th>budget</th>\n    </tr>\n  </thead>\n  <tbody>\n    <tr>\n      <th>0</th>\n      <td>0</td>\n      <td>Paul Bradley</td>\n      <td>M</td>\n      <td>9th</td>\n      <td>Huang High School</td>\n      <td>66</td>\n      <td>79</td>\n      <td>0</td>\n      <td>District</td>\n      <td>2917</td>\n      <td>1910635</td>\n    </tr>\n    <tr>\n      <th>1</th>\n      <td>1</td>\n      <td>Victor Smith</td>\n      <td>M</td>\n      <td>12th</td>\n      <td>Huang High School</td>\n      <td>94</td>\n      <td>61</td>\n      <td>0</td>\n      <td>District</td>\n      <td>2917</td>\n      <td>1910635</td>\n    </tr>\n    <tr>\n      <th>2</th>\n      <td>2</td>\n      <td>Kevin Rodriguez</td>\n      <td>M</td>\n      <td>12th</td>\n      <td>Huang High School</td>\n      <td>90</td>\n      <td>60</td>\n      <td>0</td>\n      <td>District</td>\n      <td>2917</td>\n      <td>1910635</td>\n    </tr>\n    <tr>\n      <th>3</th>\n      <td>3</td>\n      <td>Dr. Richard Scott</td>\n      <td>M</td>\n      <td>12th</td>\n      <td>Huang High School</td>\n      <td>67</td>\n      <td>58</td>\n      <td>0</td>\n      <td>District</td>\n      <td>2917</td>\n      <td>1910635</td>\n    </tr>\n    <tr>\n      <th>4</th>\n      <td>4</td>\n      <td>Bonnie Ray</td>\n      <td>F</td>\n      <td>9th</td>\n      <td>Huang High School</td>\n      <td>97</td>\n      <td>84</td>\n      <td>0</td>\n      <td>District</td>\n      <td>2917</td>\n      <td>1910635</td>\n    </tr>\n  </tbody>\n</table>\n</div>"
     },
     "metadata": {},
     "execution_count": 5
    }
   ],
   "source": [
    "#See the top 5 observations to get an idea of the columns within newly combine dataframe\n",
    "school_data_complete.head()"
   ]
  },
  {
   "cell_type": "code",
   "execution_count": 6,
   "metadata": {},
   "outputs": [
    {
     "output_type": "execute_result",
     "data": {
      "text/plain": [
       "Student ID        int64\n",
       "student_name     object\n",
       "gender           object\n",
       "grade            object\n",
       "school_name      object\n",
       "reading_score     int64\n",
       "math_score        int64\n",
       "School ID         int64\n",
       "type             object\n",
       "size              int64\n",
       "budget            int64\n",
       "dtype: object"
      ]
     },
     "metadata": {},
     "execution_count": 6
    }
   ],
   "source": [
    "#Identify my datatypes on the columns to prepare for any datatype changes that may be needed for calculations\n",
    "school_data_complete.dtypes"
   ]
  },
  {
   "cell_type": "code",
   "execution_count": 7,
   "metadata": {},
   "outputs": [
    {
     "output_type": "execute_result",
     "data": {
      "text/plain": [
       "Student ID       39170\n",
       "student_name     39170\n",
       "gender           39170\n",
       "grade            39170\n",
       "school_name      39170\n",
       "reading_score    39170\n",
       "math_score       39170\n",
       "School ID        39170\n",
       "type             39170\n",
       "size             39170\n",
       "budget           39170\n",
       "dtype: int64"
      ]
     },
     "metadata": {},
     "execution_count": 7
    }
   ],
   "source": [
    "#Check my counts to see if there is any null values\n",
    "school_data_complete.count()"
   ]
  },
  {
   "cell_type": "code",
   "execution_count": 8,
   "metadata": {},
   "outputs": [],
   "source": [
    "# Copy to another dataframe for shorter name\n",
    "school_all = school_data_complete.copy()\n",
    "\n",
    "# Count the unique number of schools and add it to array of total schools\n",
    "dst_total_schools = school_all[\"school_name\"].nunique()\n",
    "\n",
    "# Count the number of students and add it to array of total students\n",
    "dst_total_students = school_all[\"student_name\"].count()\n",
    "\n",
    "# Sum the budget of the schools to get total budget and add it to array of total budget\n",
    "dst_total_budget = (school_all[\"budget\"].unique()).sum()\n",
    "\n",
    "# Average the number of students math scores and add it to array of average math score\n",
    "dst_avg_math_score = school_all[\"math_score\"].mean()\n",
    "\n",
    "# Average the number of students reading scores and add it to array of average reading score\n",
    "dst_avg_read_score = school_all[\"reading_score\"].mean()\n",
    "\n",
    "# For a math passing score of 70 or above get the number students and get the total count\n",
    "dst_pass_math = school_all.loc[school_all[\"math_score\"] >= 70][\"math_score\"].count()\n",
    "# Calculate the total % of students passing math\n",
    "dst_pct_pass_math = (dst_pass_math/dst_total_students) * 100\n",
    "\n",
    "# For a reading passing score of 70 or above get the number students and get the total count\n",
    "dst_pass_read = school_all.loc[school_all[\"reading_score\"] >= 70][\"reading_score\"].count()\n",
    "# Calculate the total % of students passing reading\n",
    "dst_pct_pass_read = (dst_pass_read/dst_total_students) * 100\n",
    "\n",
    "# For a reading and math passing score of 70 or above get the number students and get the total count\n",
    "dst_pass_overall = school_all.loc[(school_all[\"math_score\"] >= 70) & (school_all[\"reading_score\"] >= 70)][\"Student ID\"].count()\n",
    "# Calculate the total % of students passing overall\n",
    "dst_pct_pass_overall = (dst_pass_overall/dst_total_students) * 100\n",
    "\n"
   ]
  },
  {
   "cell_type": "code",
   "execution_count": 9,
   "metadata": {},
   "outputs": [
    {
     "output_type": "execute_result",
     "data": {
      "text/plain": [
       "   Total Schools Total Students    Total Budget Average Math Score  \\\n",
       "0             15         39,170  $24,649,428.00              78.99   \n",
       "\n",
       "  Average Reading Score % Passing Math % Passing Reading % Overall Passing  \n",
       "0                 81.88          74.98             85.81             65.17  "
      ],
      "text/html": "<div>\n<style scoped>\n    .dataframe tbody tr th:only-of-type {\n        vertical-align: middle;\n    }\n\n    .dataframe tbody tr th {\n        vertical-align: top;\n    }\n\n    .dataframe thead th {\n        text-align: right;\n    }\n</style>\n<table border=\"1\" class=\"dataframe\">\n  <thead>\n    <tr style=\"text-align: right;\">\n      <th></th>\n      <th>Total Schools</th>\n      <th>Total Students</th>\n      <th>Total Budget</th>\n      <th>Average Math Score</th>\n      <th>Average Reading Score</th>\n      <th>% Passing Math</th>\n      <th>% Passing Reading</th>\n      <th>% Overall Passing</th>\n    </tr>\n  </thead>\n  <tbody>\n    <tr>\n      <th>0</th>\n      <td>15</td>\n      <td>39,170</td>\n      <td>$24,649,428.00</td>\n      <td>78.99</td>\n      <td>81.88</td>\n      <td>74.98</td>\n      <td>85.81</td>\n      <td>65.17</td>\n    </tr>\n  </tbody>\n</table>\n</div>"
     },
     "metadata": {},
     "execution_count": 9
    }
   ],
   "source": [
    "# Create a District Summary Dataframe to house my district summary\n",
    "district_summary = pd.DataFrame({\n",
    "    \n",
    "    \"Total Schools\": [dst_total_schools],\n",
    "    \"Total Students\": [dst_total_students],\n",
    "    \"Total Budget\": [dst_total_budget],\n",
    "    \"Average Math Score\": [dst_avg_math_score],\n",
    "    \"Average Reading Score\": [dst_avg_read_score],\n",
    "    \"% Passing Math\":[dst_pct_pass_math],\n",
    "    \"% Passing Reading\": [dst_pct_pass_read],\n",
    "    \"% Overall Passing\": [dst_pct_pass_overall]\n",
    "})\n",
    "\n",
    "# Format the District Summary Dataframe\n",
    "district_summary[\"Total Students\"] = district_summary[\"Total Students\"].map(\"{:,}\".format)\n",
    "district_summary[\"Total Budget\"] = district_summary[\"Total Budget\"].map(\"${:,.2f}\".format)\n",
    "district_summary[\"Average Math Score\"] = district_summary[\"Average Math Score\"].map(\"{:.2f}\".format)\n",
    "district_summary[\"Average Reading Score\"] = district_summary[\"Average Reading Score\"].map(\"{:.2f}\".format)\n",
    "district_summary[\"% Passing Math\"] = district_summary[\"% Passing Math\"].map(\"{:.2f}\".format)\n",
    "district_summary[\"% Passing Reading\"] = district_summary[\"% Passing Reading\"].map(\"{:.2f}\".format)\n",
    "district_summary[\"% Overall Passing\"] = district_summary[\"% Overall Passing\"].map(\"{:.2f}\".format)\n",
    "district_summary"
   ]
  },
  {
   "cell_type": "markdown",
   "metadata": {},
   "source": [
    "## School Summary"
   ]
  },
  {
   "cell_type": "markdown",
   "metadata": {},
   "source": [
    "* Create an overview table that summarizes key metrics about each school, including:\n",
    "  * School Name\n",
    "  * School Type\n",
    "  * Total Students\n",
    "  * Total School Budget\n",
    "  * Per Student Budget\n",
    "  * Average Math Score\n",
    "  * Average Reading Score\n",
    "  * % Passing Math\n",
    "  * % Passing Reading\n",
    "  * % Overall Passing (The percentage of students that passed math **and** reading.)\n",
    "  \n",
    "* Create a dataframe to hold the above results"
   ]
  },
  {
   "cell_type": "code",
   "execution_count": 10,
   "metadata": {},
   "outputs": [],
   "source": [
    "# Create groupby dataframe from the merge dataframe to use for the school summary based on grouping of school name \n",
    "gb_schools = school_all.groupby([\"school_name\"])\n",
    "\n",
    "# Capture school types from original school input dataframe\n",
    "# Set the index to school name\n",
    "sch_types = school_data.set_index(\"school_name\")[\"type\"]\n",
    "\n",
    "# Use groupby dataframe to get the total students per school\n",
    "sch_total_students = gb_schools[\"student_name\"].count()\n",
    "\n",
    "# Capture the original budgets outlined in the school input dataframe\n",
    "# Set the index to school name\n",
    "sch_total_budget = school_data.set_index(\"school_name\")[\"budget\"]\n",
    "\n",
    "# Capture the budgets per student using the school budgets over the students counts\n",
    "sch_per_std_bud = sch_total_budget/sch_total_students\n",
    "\n",
    "# Use groupby dataframe to get the average math score per school\n",
    "sch_avg_math_score = gb_schools[\"math_score\"].mean()\n",
    "\n",
    "# Use groupby dataframe to get the average math score per school\n",
    "sch_avg_read_score = gb_schools[\"reading_score\"].mean()\n",
    "\n",
    "# For a math passing score of 70 or above get the number students\n",
    "# Then create groupby dataframe to get the count per school \n",
    "sch_pass_math = school_all.loc[school_all[\"math_score\"] >= 70].groupby([\"school_name\"])[\"math_score\"].count()\n",
    "\n",
    "# Calculate the total % of students passing reading per school\n",
    "sch_pct_pass_math = (sch_pass_math/sch_total_students) * 100\n",
    "\n",
    "# For a reading passing score of 70 or above get the number students\n",
    "# Then create groupby dataframe to get the count per school \n",
    "sch_pass_read = school_all.loc[school_all[\"reading_score\"] >= 70].groupby([\"school_name\"])[\"reading_score\"].count()\n",
    "\n",
    "# Calculate the total % of students passing reading per school\n",
    "sch_pct_pass_read = (sch_pass_read/sch_total_students) * 100\n",
    "\n",
    "# For a reading and math passing score of 70 or above get the number students\n",
    "# Then create groupby dataframe to get the count per school\n",
    "sch_pass_overall = school_all.loc[(school_all[\"math_score\"] >= 70) & (school_all[\"reading_score\"] >= 70)].groupby([\"school_name\"])[\"Student ID\"].count()\n",
    "\n",
    "# Calculate the total % of students passing overall per school\n",
    "sch_pct_pass_overall = (sch_pass_overall/sch_total_students) * 100\n"
   ]
  },
  {
   "cell_type": "code",
   "execution_count": 11,
   "metadata": {},
   "outputs": [
    {
     "output_type": "execute_result",
     "data": {
      "text/plain": [
       "                      School Type  Total Students Total School Budget  \\\n",
       "Bailey High School       District            4976       $3,124,928.00   \n",
       "Cabrera High School       Charter            1858       $1,081,356.00   \n",
       "Figueroa High School     District            2949       $1,884,411.00   \n",
       "Ford High School         District            2739       $1,763,916.00   \n",
       "Griffin High School       Charter            1468         $917,500.00   \n",
       "Hernandez High School    District            4635       $3,022,020.00   \n",
       "Holden High School        Charter             427         $248,087.00   \n",
       "Huang High School        District            2917       $1,910,635.00   \n",
       "Johnson High School      District            4761       $3,094,650.00   \n",
       "Pena High School          Charter             962         $585,858.00   \n",
       "Rodriguez High School    District            3999       $2,547,363.00   \n",
       "Shelton High School       Charter            1761       $1,056,600.00   \n",
       "Thomas High School        Charter            1635       $1,043,130.00   \n",
       "Wilson High School        Charter            2283       $1,319,574.00   \n",
       "Wright High School        Charter            1800       $1,049,400.00   \n",
       "\n",
       "                      Per Student Budget Average Math Score  \\\n",
       "Bailey High School               $628.00              77.05   \n",
       "Cabrera High School              $582.00              83.06   \n",
       "Figueroa High School             $639.00              76.71   \n",
       "Ford High School                 $644.00              77.10   \n",
       "Griffin High School              $625.00              83.35   \n",
       "Hernandez High School            $652.00              77.29   \n",
       "Holden High School               $581.00              83.80   \n",
       "Huang High School                $655.00              76.63   \n",
       "Johnson High School              $650.00              77.07   \n",
       "Pena High School                 $609.00              83.84   \n",
       "Rodriguez High School            $637.00              76.84   \n",
       "Shelton High School              $600.00              83.36   \n",
       "Thomas High School               $638.00              83.42   \n",
       "Wilson High School               $578.00              83.27   \n",
       "Wright High School               $583.00              83.68   \n",
       "\n",
       "                      Average Reading Score % Passing Math % Passing Reading  \\\n",
       "Bailey High School                    81.03          66.68             81.93   \n",
       "Cabrera High School                   83.98          94.13             97.04   \n",
       "Figueroa High School                  81.16          65.99             80.74   \n",
       "Ford High School                      80.75          68.31             79.30   \n",
       "Griffin High School                   83.82          93.39             97.14   \n",
       "Hernandez High School                 80.93          66.75             80.86   \n",
       "Holden High School                    83.81          92.51             96.25   \n",
       "Huang High School                     81.18          65.68             81.32   \n",
       "Johnson High School                   80.97          66.06             81.22   \n",
       "Pena High School                      84.04          94.59             95.95   \n",
       "Rodriguez High School                 80.74          66.37             80.22   \n",
       "Shelton High School                   83.73          93.87             95.85   \n",
       "Thomas High School                    83.85          93.27             97.31   \n",
       "Wilson High School                    83.99          93.87             96.54   \n",
       "Wright High School                    83.95          93.33             96.61   \n",
       "\n",
       "                      % Overall Passing  \n",
       "Bailey High School                54.64  \n",
       "Cabrera High School               91.33  \n",
       "Figueroa High School              53.20  \n",
       "Ford High School                  54.29  \n",
       "Griffin High School               90.60  \n",
       "Hernandez High School             53.53  \n",
       "Holden High School                89.23  \n",
       "Huang High School                 53.51  \n",
       "Johnson High School               53.54  \n",
       "Pena High School                  90.54  \n",
       "Rodriguez High School             52.99  \n",
       "Shelton High School               89.89  \n",
       "Thomas High School                90.95  \n",
       "Wilson High School                90.58  \n",
       "Wright High School                90.33  "
      ],
      "text/html": "<div>\n<style scoped>\n    .dataframe tbody tr th:only-of-type {\n        vertical-align: middle;\n    }\n\n    .dataframe tbody tr th {\n        vertical-align: top;\n    }\n\n    .dataframe thead th {\n        text-align: right;\n    }\n</style>\n<table border=\"1\" class=\"dataframe\">\n  <thead>\n    <tr style=\"text-align: right;\">\n      <th></th>\n      <th>School Type</th>\n      <th>Total Students</th>\n      <th>Total School Budget</th>\n      <th>Per Student Budget</th>\n      <th>Average Math Score</th>\n      <th>Average Reading Score</th>\n      <th>% Passing Math</th>\n      <th>% Passing Reading</th>\n      <th>% Overall Passing</th>\n    </tr>\n  </thead>\n  <tbody>\n    <tr>\n      <th>Bailey High School</th>\n      <td>District</td>\n      <td>4976</td>\n      <td>$3,124,928.00</td>\n      <td>$628.00</td>\n      <td>77.05</td>\n      <td>81.03</td>\n      <td>66.68</td>\n      <td>81.93</td>\n      <td>54.64</td>\n    </tr>\n    <tr>\n      <th>Cabrera High School</th>\n      <td>Charter</td>\n      <td>1858</td>\n      <td>$1,081,356.00</td>\n      <td>$582.00</td>\n      <td>83.06</td>\n      <td>83.98</td>\n      <td>94.13</td>\n      <td>97.04</td>\n      <td>91.33</td>\n    </tr>\n    <tr>\n      <th>Figueroa High School</th>\n      <td>District</td>\n      <td>2949</td>\n      <td>$1,884,411.00</td>\n      <td>$639.00</td>\n      <td>76.71</td>\n      <td>81.16</td>\n      <td>65.99</td>\n      <td>80.74</td>\n      <td>53.20</td>\n    </tr>\n    <tr>\n      <th>Ford High School</th>\n      <td>District</td>\n      <td>2739</td>\n      <td>$1,763,916.00</td>\n      <td>$644.00</td>\n      <td>77.10</td>\n      <td>80.75</td>\n      <td>68.31</td>\n      <td>79.30</td>\n      <td>54.29</td>\n    </tr>\n    <tr>\n      <th>Griffin High School</th>\n      <td>Charter</td>\n      <td>1468</td>\n      <td>$917,500.00</td>\n      <td>$625.00</td>\n      <td>83.35</td>\n      <td>83.82</td>\n      <td>93.39</td>\n      <td>97.14</td>\n      <td>90.60</td>\n    </tr>\n    <tr>\n      <th>Hernandez High School</th>\n      <td>District</td>\n      <td>4635</td>\n      <td>$3,022,020.00</td>\n      <td>$652.00</td>\n      <td>77.29</td>\n      <td>80.93</td>\n      <td>66.75</td>\n      <td>80.86</td>\n      <td>53.53</td>\n    </tr>\n    <tr>\n      <th>Holden High School</th>\n      <td>Charter</td>\n      <td>427</td>\n      <td>$248,087.00</td>\n      <td>$581.00</td>\n      <td>83.80</td>\n      <td>83.81</td>\n      <td>92.51</td>\n      <td>96.25</td>\n      <td>89.23</td>\n    </tr>\n    <tr>\n      <th>Huang High School</th>\n      <td>District</td>\n      <td>2917</td>\n      <td>$1,910,635.00</td>\n      <td>$655.00</td>\n      <td>76.63</td>\n      <td>81.18</td>\n      <td>65.68</td>\n      <td>81.32</td>\n      <td>53.51</td>\n    </tr>\n    <tr>\n      <th>Johnson High School</th>\n      <td>District</td>\n      <td>4761</td>\n      <td>$3,094,650.00</td>\n      <td>$650.00</td>\n      <td>77.07</td>\n      <td>80.97</td>\n      <td>66.06</td>\n      <td>81.22</td>\n      <td>53.54</td>\n    </tr>\n    <tr>\n      <th>Pena High School</th>\n      <td>Charter</td>\n      <td>962</td>\n      <td>$585,858.00</td>\n      <td>$609.00</td>\n      <td>83.84</td>\n      <td>84.04</td>\n      <td>94.59</td>\n      <td>95.95</td>\n      <td>90.54</td>\n    </tr>\n    <tr>\n      <th>Rodriguez High School</th>\n      <td>District</td>\n      <td>3999</td>\n      <td>$2,547,363.00</td>\n      <td>$637.00</td>\n      <td>76.84</td>\n      <td>80.74</td>\n      <td>66.37</td>\n      <td>80.22</td>\n      <td>52.99</td>\n    </tr>\n    <tr>\n      <th>Shelton High School</th>\n      <td>Charter</td>\n      <td>1761</td>\n      <td>$1,056,600.00</td>\n      <td>$600.00</td>\n      <td>83.36</td>\n      <td>83.73</td>\n      <td>93.87</td>\n      <td>95.85</td>\n      <td>89.89</td>\n    </tr>\n    <tr>\n      <th>Thomas High School</th>\n      <td>Charter</td>\n      <td>1635</td>\n      <td>$1,043,130.00</td>\n      <td>$638.00</td>\n      <td>83.42</td>\n      <td>83.85</td>\n      <td>93.27</td>\n      <td>97.31</td>\n      <td>90.95</td>\n    </tr>\n    <tr>\n      <th>Wilson High School</th>\n      <td>Charter</td>\n      <td>2283</td>\n      <td>$1,319,574.00</td>\n      <td>$578.00</td>\n      <td>83.27</td>\n      <td>83.99</td>\n      <td>93.87</td>\n      <td>96.54</td>\n      <td>90.58</td>\n    </tr>\n    <tr>\n      <th>Wright High School</th>\n      <td>Charter</td>\n      <td>1800</td>\n      <td>$1,049,400.00</td>\n      <td>$583.00</td>\n      <td>83.68</td>\n      <td>83.95</td>\n      <td>93.33</td>\n      <td>96.61</td>\n      <td>90.33</td>\n    </tr>\n  </tbody>\n</table>\n</div>"
     },
     "metadata": {},
     "execution_count": 11
    }
   ],
   "source": [
    "# Create a School Summary Dataframe to house my school summary\n",
    "school_summary = pd.DataFrame({\n",
    "    \n",
    "    \"School Type\": sch_types,\n",
    "    \"Total Students\": sch_total_students,\n",
    "    \"Total School Budget\": sch_total_budget,\n",
    "    \"Per Student Budget\": sch_per_std_bud,\n",
    "    \"Average Math Score\": sch_avg_math_score,\n",
    "    \"Average Reading Score\": sch_avg_read_score,\n",
    "    \"% Passing Math\":sch_pct_pass_math,\n",
    "    \"% Passing Reading\": sch_pct_pass_read,\n",
    "    \"% Overall Passing\": sch_pct_pass_overall\n",
    "})\n",
    "\n",
    "# Format the School Summary Dataframe\n",
    "school_summary[\"Total School Budget\"] = school_summary[\"Total School Budget\"].map(\"${:,.2f}\".format)\n",
    "school_summary[\"Per Student Budget\"] = school_summary[\"Per Student Budget\"].map(\"${:.2f}\".format)\n",
    "school_summary[\"Average Math Score\"] = school_summary[\"Average Math Score\"].map(\"{:.2f}\".format)\n",
    "school_summary[\"Average Reading Score\"] = school_summary[\"Average Reading Score\"].map(\"{:.2f}\".format)\n",
    "school_summary[\"% Passing Math\"] = school_summary[\"% Passing Math\"].map(\"{:.2f}\".format)\n",
    "school_summary[\"% Passing Reading\"] = school_summary[\"% Passing Reading\"].map(\"{:.2f}\".format)\n",
    "school_summary[\"% Overall Passing\"] = school_summary[\"% Overall Passing\"].map(\"{:.2f}\".format)\n",
    "school_summary "
   ]
  },
  {
   "cell_type": "markdown",
   "metadata": {},
   "source": [
    "## Top Performing Schools (By % Overall Passing)"
   ]
  },
  {
   "cell_type": "markdown",
   "metadata": {},
   "source": [
    "* Sort and display the top five performing schools by % overall passing."
   ]
  },
  {
   "cell_type": "code",
   "execution_count": 12,
   "metadata": {},
   "outputs": [
    {
     "output_type": "execute_result",
     "data": {
      "text/plain": [
       "                    School Type  Total Students Total School Budget  \\\n",
       "Cabrera High School     Charter            1858       $1,081,356.00   \n",
       "Thomas High School      Charter            1635       $1,043,130.00   \n",
       "Griffin High School     Charter            1468         $917,500.00   \n",
       "Wilson High School      Charter            2283       $1,319,574.00   \n",
       "Pena High School        Charter             962         $585,858.00   \n",
       "\n",
       "                    Per Student Budget Average Math Score  \\\n",
       "Cabrera High School            $582.00              83.06   \n",
       "Thomas High School             $638.00              83.42   \n",
       "Griffin High School            $625.00              83.35   \n",
       "Wilson High School             $578.00              83.27   \n",
       "Pena High School               $609.00              83.84   \n",
       "\n",
       "                    Average Reading Score % Passing Math % Passing Reading  \\\n",
       "Cabrera High School                 83.98          94.13             97.04   \n",
       "Thomas High School                  83.85          93.27             97.31   \n",
       "Griffin High School                 83.82          93.39             97.14   \n",
       "Wilson High School                  83.99          93.87             96.54   \n",
       "Pena High School                    84.04          94.59             95.95   \n",
       "\n",
       "                    % Overall Passing  \n",
       "Cabrera High School             91.33  \n",
       "Thomas High School              90.95  \n",
       "Griffin High School             90.60  \n",
       "Wilson High School              90.58  \n",
       "Pena High School                90.54  "
      ],
      "text/html": "<div>\n<style scoped>\n    .dataframe tbody tr th:only-of-type {\n        vertical-align: middle;\n    }\n\n    .dataframe tbody tr th {\n        vertical-align: top;\n    }\n\n    .dataframe thead th {\n        text-align: right;\n    }\n</style>\n<table border=\"1\" class=\"dataframe\">\n  <thead>\n    <tr style=\"text-align: right;\">\n      <th></th>\n      <th>School Type</th>\n      <th>Total Students</th>\n      <th>Total School Budget</th>\n      <th>Per Student Budget</th>\n      <th>Average Math Score</th>\n      <th>Average Reading Score</th>\n      <th>% Passing Math</th>\n      <th>% Passing Reading</th>\n      <th>% Overall Passing</th>\n    </tr>\n  </thead>\n  <tbody>\n    <tr>\n      <th>Cabrera High School</th>\n      <td>Charter</td>\n      <td>1858</td>\n      <td>$1,081,356.00</td>\n      <td>$582.00</td>\n      <td>83.06</td>\n      <td>83.98</td>\n      <td>94.13</td>\n      <td>97.04</td>\n      <td>91.33</td>\n    </tr>\n    <tr>\n      <th>Thomas High School</th>\n      <td>Charter</td>\n      <td>1635</td>\n      <td>$1,043,130.00</td>\n      <td>$638.00</td>\n      <td>83.42</td>\n      <td>83.85</td>\n      <td>93.27</td>\n      <td>97.31</td>\n      <td>90.95</td>\n    </tr>\n    <tr>\n      <th>Griffin High School</th>\n      <td>Charter</td>\n      <td>1468</td>\n      <td>$917,500.00</td>\n      <td>$625.00</td>\n      <td>83.35</td>\n      <td>83.82</td>\n      <td>93.39</td>\n      <td>97.14</td>\n      <td>90.60</td>\n    </tr>\n    <tr>\n      <th>Wilson High School</th>\n      <td>Charter</td>\n      <td>2283</td>\n      <td>$1,319,574.00</td>\n      <td>$578.00</td>\n      <td>83.27</td>\n      <td>83.99</td>\n      <td>93.87</td>\n      <td>96.54</td>\n      <td>90.58</td>\n    </tr>\n    <tr>\n      <th>Pena High School</th>\n      <td>Charter</td>\n      <td>962</td>\n      <td>$585,858.00</td>\n      <td>$609.00</td>\n      <td>83.84</td>\n      <td>84.04</td>\n      <td>94.59</td>\n      <td>95.95</td>\n      <td>90.54</td>\n    </tr>\n  </tbody>\n</table>\n</div>"
     },
     "metadata": {},
     "execution_count": 12
    }
   ],
   "source": [
    "# Sort top performing schools by % overall passing.\n",
    "top_ovr_pass = school_summary.sort_values(\"% Overall Passing\", ascending = False)\n",
    "\n",
    "# Display the top five performing schools\n",
    "top_ovr_pass.head()"
   ]
  },
  {
   "cell_type": "markdown",
   "metadata": {},
   "source": [
    "## Bottom Performing Schools (By % Overall Passing)"
   ]
  },
  {
   "cell_type": "markdown",
   "metadata": {},
   "source": [
    "* Sort and display the five worst-performing schools by % overall passing."
   ]
  },
  {
   "cell_type": "code",
   "execution_count": 13,
   "metadata": {},
   "outputs": [
    {
     "output_type": "execute_result",
     "data": {
      "text/plain": [
       "                      School Type  Total Students Total School Budget  \\\n",
       "Rodriguez High School    District            3999       $2,547,363.00   \n",
       "Figueroa High School     District            2949       $1,884,411.00   \n",
       "Huang High School        District            2917       $1,910,635.00   \n",
       "Hernandez High School    District            4635       $3,022,020.00   \n",
       "Johnson High School      District            4761       $3,094,650.00   \n",
       "\n",
       "                      Per Student Budget Average Math Score  \\\n",
       "Rodriguez High School            $637.00              76.84   \n",
       "Figueroa High School             $639.00              76.71   \n",
       "Huang High School                $655.00              76.63   \n",
       "Hernandez High School            $652.00              77.29   \n",
       "Johnson High School              $650.00              77.07   \n",
       "\n",
       "                      Average Reading Score % Passing Math % Passing Reading  \\\n",
       "Rodriguez High School                 80.74          66.37             80.22   \n",
       "Figueroa High School                  81.16          65.99             80.74   \n",
       "Huang High School                     81.18          65.68             81.32   \n",
       "Hernandez High School                 80.93          66.75             80.86   \n",
       "Johnson High School                   80.97          66.06             81.22   \n",
       "\n",
       "                      % Overall Passing  \n",
       "Rodriguez High School             52.99  \n",
       "Figueroa High School              53.20  \n",
       "Huang High School                 53.51  \n",
       "Hernandez High School             53.53  \n",
       "Johnson High School               53.54  "
      ],
      "text/html": "<div>\n<style scoped>\n    .dataframe tbody tr th:only-of-type {\n        vertical-align: middle;\n    }\n\n    .dataframe tbody tr th {\n        vertical-align: top;\n    }\n\n    .dataframe thead th {\n        text-align: right;\n    }\n</style>\n<table border=\"1\" class=\"dataframe\">\n  <thead>\n    <tr style=\"text-align: right;\">\n      <th></th>\n      <th>School Type</th>\n      <th>Total Students</th>\n      <th>Total School Budget</th>\n      <th>Per Student Budget</th>\n      <th>Average Math Score</th>\n      <th>Average Reading Score</th>\n      <th>% Passing Math</th>\n      <th>% Passing Reading</th>\n      <th>% Overall Passing</th>\n    </tr>\n  </thead>\n  <tbody>\n    <tr>\n      <th>Rodriguez High School</th>\n      <td>District</td>\n      <td>3999</td>\n      <td>$2,547,363.00</td>\n      <td>$637.00</td>\n      <td>76.84</td>\n      <td>80.74</td>\n      <td>66.37</td>\n      <td>80.22</td>\n      <td>52.99</td>\n    </tr>\n    <tr>\n      <th>Figueroa High School</th>\n      <td>District</td>\n      <td>2949</td>\n      <td>$1,884,411.00</td>\n      <td>$639.00</td>\n      <td>76.71</td>\n      <td>81.16</td>\n      <td>65.99</td>\n      <td>80.74</td>\n      <td>53.20</td>\n    </tr>\n    <tr>\n      <th>Huang High School</th>\n      <td>District</td>\n      <td>2917</td>\n      <td>$1,910,635.00</td>\n      <td>$655.00</td>\n      <td>76.63</td>\n      <td>81.18</td>\n      <td>65.68</td>\n      <td>81.32</td>\n      <td>53.51</td>\n    </tr>\n    <tr>\n      <th>Hernandez High School</th>\n      <td>District</td>\n      <td>4635</td>\n      <td>$3,022,020.00</td>\n      <td>$652.00</td>\n      <td>77.29</td>\n      <td>80.93</td>\n      <td>66.75</td>\n      <td>80.86</td>\n      <td>53.53</td>\n    </tr>\n    <tr>\n      <th>Johnson High School</th>\n      <td>District</td>\n      <td>4761</td>\n      <td>$3,094,650.00</td>\n      <td>$650.00</td>\n      <td>77.07</td>\n      <td>80.97</td>\n      <td>66.06</td>\n      <td>81.22</td>\n      <td>53.54</td>\n    </tr>\n  </tbody>\n</table>\n</div>"
     },
     "metadata": {},
     "execution_count": 13
    }
   ],
   "source": [
    "# Sort bottom performing schools by % overall passing.\n",
    "bottom_ovr_pass = school_summary.sort_values(\"% Overall Passing\", ascending = True)\n",
    "\n",
    "# Display the bottom five performing schools\n",
    "bottom_ovr_pass.head()"
   ]
  },
  {
   "cell_type": "markdown",
   "metadata": {
    "collapsed": true
   },
   "source": [
    "## Math Scores by Grade"
   ]
  },
  {
   "cell_type": "markdown",
   "metadata": {},
   "source": [
    "* Create a table that lists the average Reading Score for students of each grade level (9th, 10th, 11th, 12th) at each school.\n",
    "\n",
    "  * Create a pandas series for each grade. Hint: use a conditional statement.\n",
    "  \n",
    "  * Group each series by school\n",
    "  \n",
    "  * Combine the series into a dataframe\n",
    "  \n",
    "  * Optional: give the displayed data cleaner formatting"
   ]
  },
  {
   "cell_type": "code",
   "execution_count": 14,
   "metadata": {},
   "outputs": [],
   "source": [
    "# Capture all the 9th grade students\n",
    "# Then create groupby dateframe to get the average (mean) math grade per school \n",
    "g9th_math = school_all.loc[school_all[\"grade\"] == \"9th\"].groupby([\"school_name\"])[\"math_score\"].mean()\n",
    "\n",
    "# Capture all the 10th grade students\n",
    "# Then create groupby dateframe to get the average (mean) math grade per school \n",
    "g10th_math = school_all.loc[school_all[\"grade\"] == \"10th\"].groupby([\"school_name\"])[\"math_score\"].mean()\n",
    "\n",
    "# Capture all the 11th grade students\n",
    "# Then create groupby dateframe to get the average (mean) math grade per school \n",
    "g11th_math = school_all.loc[school_all[\"grade\"] == \"11th\"].groupby([\"school_name\"])[\"math_score\"].mean()\n",
    "\n",
    "# Capture all the 12th grade students\n",
    "# Then create groupby dateframe to get the average (mean) math grade per school \n",
    "g12th_math = school_all.loc[school_all[\"grade\"] == \"12th\"].groupby([\"school_name\"])[\"math_score\"].mean()\n"
   ]
  },
  {
   "cell_type": "code",
   "execution_count": 15,
   "metadata": {},
   "outputs": [
    {
     "output_type": "execute_result",
     "data": {
      "text/plain": [
       "                         9th   10th   11th   12th\n",
       "Bailey High School     77.08  77.00  77.52  76.49\n",
       "Cabrera High School    83.09  83.15  82.77  83.28\n",
       "Figueroa High School   76.40  76.54  76.88  77.15\n",
       "Ford High School       77.36  77.67  76.92  76.18\n",
       "Griffin High School    82.04  84.23  83.84  83.36\n",
       "Hernandez High School  77.44  77.34  77.14  77.19\n",
       "Holden High School     83.79  83.43  85.00  82.86\n",
       "Huang High School      77.03  75.91  76.45  77.23\n",
       "Johnson High School    77.19  76.69  77.49  76.86\n",
       "Pena High School       83.63  83.37  84.33  84.12\n",
       "Rodriguez High School  76.86  76.61  76.40  77.69\n",
       "Shelton High School    83.42  82.92  83.38  83.78\n",
       "Thomas High School     83.59  83.09  83.50  83.50\n",
       "Wilson High School     83.09  83.72  83.20  83.04\n",
       "Wright High School     83.26  84.01  83.84  83.64"
      ],
      "text/html": "<div>\n<style scoped>\n    .dataframe tbody tr th:only-of-type {\n        vertical-align: middle;\n    }\n\n    .dataframe tbody tr th {\n        vertical-align: top;\n    }\n\n    .dataframe thead th {\n        text-align: right;\n    }\n</style>\n<table border=\"1\" class=\"dataframe\">\n  <thead>\n    <tr style=\"text-align: right;\">\n      <th></th>\n      <th>9th</th>\n      <th>10th</th>\n      <th>11th</th>\n      <th>12th</th>\n    </tr>\n  </thead>\n  <tbody>\n    <tr>\n      <th>Bailey High School</th>\n      <td>77.08</td>\n      <td>77.00</td>\n      <td>77.52</td>\n      <td>76.49</td>\n    </tr>\n    <tr>\n      <th>Cabrera High School</th>\n      <td>83.09</td>\n      <td>83.15</td>\n      <td>82.77</td>\n      <td>83.28</td>\n    </tr>\n    <tr>\n      <th>Figueroa High School</th>\n      <td>76.40</td>\n      <td>76.54</td>\n      <td>76.88</td>\n      <td>77.15</td>\n    </tr>\n    <tr>\n      <th>Ford High School</th>\n      <td>77.36</td>\n      <td>77.67</td>\n      <td>76.92</td>\n      <td>76.18</td>\n    </tr>\n    <tr>\n      <th>Griffin High School</th>\n      <td>82.04</td>\n      <td>84.23</td>\n      <td>83.84</td>\n      <td>83.36</td>\n    </tr>\n    <tr>\n      <th>Hernandez High School</th>\n      <td>77.44</td>\n      <td>77.34</td>\n      <td>77.14</td>\n      <td>77.19</td>\n    </tr>\n    <tr>\n      <th>Holden High School</th>\n      <td>83.79</td>\n      <td>83.43</td>\n      <td>85.00</td>\n      <td>82.86</td>\n    </tr>\n    <tr>\n      <th>Huang High School</th>\n      <td>77.03</td>\n      <td>75.91</td>\n      <td>76.45</td>\n      <td>77.23</td>\n    </tr>\n    <tr>\n      <th>Johnson High School</th>\n      <td>77.19</td>\n      <td>76.69</td>\n      <td>77.49</td>\n      <td>76.86</td>\n    </tr>\n    <tr>\n      <th>Pena High School</th>\n      <td>83.63</td>\n      <td>83.37</td>\n      <td>84.33</td>\n      <td>84.12</td>\n    </tr>\n    <tr>\n      <th>Rodriguez High School</th>\n      <td>76.86</td>\n      <td>76.61</td>\n      <td>76.40</td>\n      <td>77.69</td>\n    </tr>\n    <tr>\n      <th>Shelton High School</th>\n      <td>83.42</td>\n      <td>82.92</td>\n      <td>83.38</td>\n      <td>83.78</td>\n    </tr>\n    <tr>\n      <th>Thomas High School</th>\n      <td>83.59</td>\n      <td>83.09</td>\n      <td>83.50</td>\n      <td>83.50</td>\n    </tr>\n    <tr>\n      <th>Wilson High School</th>\n      <td>83.09</td>\n      <td>83.72</td>\n      <td>83.20</td>\n      <td>83.04</td>\n    </tr>\n    <tr>\n      <th>Wright High School</th>\n      <td>83.26</td>\n      <td>84.01</td>\n      <td>83.84</td>\n      <td>83.64</td>\n    </tr>\n  </tbody>\n</table>\n</div>"
     },
     "metadata": {},
     "execution_count": 15
    }
   ],
   "source": [
    "# Create Average Math Score by students grade dataframe\n",
    "math_scores_grade = pd.DataFrame({\n",
    "        \"9th\": g9th_math,\n",
    "        \"10th\": g10th_math,\n",
    "        \"11th\": g11th_math,\n",
    "        \"12th\": g12th_math\n",
    "})\n",
    "\n",
    "# Format the Average Math Score by Grade Summary Dataframe\n",
    "math_scores_grade.index.name = None\n",
    "math_scores_grade[\"9th\"] = math_scores_grade[\"9th\"].map(\"{:.2f}\".format)\n",
    "math_scores_grade[\"10th\"] = math_scores_grade[\"10th\"].map(\"{:.2f}\".format)\n",
    "math_scores_grade[\"11th\"] = math_scores_grade[\"11th\"].map(\"{:.2f}\".format)\n",
    "math_scores_grade[\"12th\"] = math_scores_grade[\"12th\"].map(\"{:.2f}\".format)\n",
    "math_scores_grade"
   ]
  },
  {
   "cell_type": "markdown",
   "metadata": {},
   "source": [
    "## Reading Score by Grade "
   ]
  },
  {
   "cell_type": "markdown",
   "metadata": {},
   "source": [
    "* Perform the same operations as above for reading scores"
   ]
  },
  {
   "cell_type": "code",
   "execution_count": 16,
   "metadata": {},
   "outputs": [],
   "source": [
    "# Capture all the 9th grade students\n",
    "# Then create groupby dateframe to get the average (mean) reading grade per school \n",
    "g9th_read = school_all.loc[school_all[\"grade\"] == \"9th\"].groupby([\"school_name\"])[\"reading_score\"].mean()\n",
    "\n",
    "# Capture all the 10th grade students\n",
    "# Then create groupby dateframe to get the average (mean) reading grade per school \n",
    "g10th_read = school_all.loc[school_all[\"grade\"] == \"10th\"].groupby([\"school_name\"])[\"reading_score\"].mean()\n",
    "\n",
    "# Capture all the 11th grade students\n",
    "# Then create groupby dateframe to get the average (mean) reading grade per school \n",
    "g11th_read = school_all.loc[school_all[\"grade\"] == \"11th\"].groupby([\"school_name\"])[\"reading_score\"].mean()\n",
    "\n",
    "# Capture all the 12th grade students\n",
    "# Then create groupby dateframe to get the average (mean) reading grade per school \n",
    "g12th_read = school_all.loc[school_all[\"grade\"] == \"12th\"].groupby([\"school_name\"])[\"reading_score\"].mean()\n"
   ]
  },
  {
   "cell_type": "code",
   "execution_count": 17,
   "metadata": {},
   "outputs": [
    {
     "output_type": "execute_result",
     "data": {
      "text/plain": [
       "                         9th   10th   11th   12th\n",
       "Bailey High School     81.30  80.91  80.95  80.91\n",
       "Cabrera High School    83.68  84.25  83.79  84.29\n",
       "Figueroa High School   81.20  81.41  80.64  81.38\n",
       "Ford High School       80.63  81.26  80.40  80.66\n",
       "Griffin High School    83.37  83.71  84.29  84.01\n",
       "Hernandez High School  80.87  80.66  81.40  80.86\n",
       "Holden High School     83.68  83.32  83.82  84.70\n",
       "Huang High School      81.29  81.51  81.42  80.31\n",
       "Johnson High School    81.26  80.77  80.62  81.23\n",
       "Pena High School       83.81  83.61  84.34  84.59\n",
       "Rodriguez High School  80.99  80.63  80.86  80.38\n",
       "Shelton High School    84.12  83.44  84.37  82.78\n",
       "Thomas High School     83.73  84.25  83.59  83.83\n",
       "Wilson High School     83.94  84.02  83.76  84.32\n",
       "Wright High School     83.83  83.81  84.16  84.07"
      ],
      "text/html": "<div>\n<style scoped>\n    .dataframe tbody tr th:only-of-type {\n        vertical-align: middle;\n    }\n\n    .dataframe tbody tr th {\n        vertical-align: top;\n    }\n\n    .dataframe thead th {\n        text-align: right;\n    }\n</style>\n<table border=\"1\" class=\"dataframe\">\n  <thead>\n    <tr style=\"text-align: right;\">\n      <th></th>\n      <th>9th</th>\n      <th>10th</th>\n      <th>11th</th>\n      <th>12th</th>\n    </tr>\n  </thead>\n  <tbody>\n    <tr>\n      <th>Bailey High School</th>\n      <td>81.30</td>\n      <td>80.91</td>\n      <td>80.95</td>\n      <td>80.91</td>\n    </tr>\n    <tr>\n      <th>Cabrera High School</th>\n      <td>83.68</td>\n      <td>84.25</td>\n      <td>83.79</td>\n      <td>84.29</td>\n    </tr>\n    <tr>\n      <th>Figueroa High School</th>\n      <td>81.20</td>\n      <td>81.41</td>\n      <td>80.64</td>\n      <td>81.38</td>\n    </tr>\n    <tr>\n      <th>Ford High School</th>\n      <td>80.63</td>\n      <td>81.26</td>\n      <td>80.40</td>\n      <td>80.66</td>\n    </tr>\n    <tr>\n      <th>Griffin High School</th>\n      <td>83.37</td>\n      <td>83.71</td>\n      <td>84.29</td>\n      <td>84.01</td>\n    </tr>\n    <tr>\n      <th>Hernandez High School</th>\n      <td>80.87</td>\n      <td>80.66</td>\n      <td>81.40</td>\n      <td>80.86</td>\n    </tr>\n    <tr>\n      <th>Holden High School</th>\n      <td>83.68</td>\n      <td>83.32</td>\n      <td>83.82</td>\n      <td>84.70</td>\n    </tr>\n    <tr>\n      <th>Huang High School</th>\n      <td>81.29</td>\n      <td>81.51</td>\n      <td>81.42</td>\n      <td>80.31</td>\n    </tr>\n    <tr>\n      <th>Johnson High School</th>\n      <td>81.26</td>\n      <td>80.77</td>\n      <td>80.62</td>\n      <td>81.23</td>\n    </tr>\n    <tr>\n      <th>Pena High School</th>\n      <td>83.81</td>\n      <td>83.61</td>\n      <td>84.34</td>\n      <td>84.59</td>\n    </tr>\n    <tr>\n      <th>Rodriguez High School</th>\n      <td>80.99</td>\n      <td>80.63</td>\n      <td>80.86</td>\n      <td>80.38</td>\n    </tr>\n    <tr>\n      <th>Shelton High School</th>\n      <td>84.12</td>\n      <td>83.44</td>\n      <td>84.37</td>\n      <td>82.78</td>\n    </tr>\n    <tr>\n      <th>Thomas High School</th>\n      <td>83.73</td>\n      <td>84.25</td>\n      <td>83.59</td>\n      <td>83.83</td>\n    </tr>\n    <tr>\n      <th>Wilson High School</th>\n      <td>83.94</td>\n      <td>84.02</td>\n      <td>83.76</td>\n      <td>84.32</td>\n    </tr>\n    <tr>\n      <th>Wright High School</th>\n      <td>83.83</td>\n      <td>83.81</td>\n      <td>84.16</td>\n      <td>84.07</td>\n    </tr>\n  </tbody>\n</table>\n</div>"
     },
     "metadata": {},
     "execution_count": 17
    }
   ],
   "source": [
    "# Create Average Reading Score by students grade dataframe\n",
    "read_scores_grade = pd.DataFrame({\n",
    "        \"9th\": g9th_read,\n",
    "        \"10th\": g10th_read,\n",
    "        \"11th\": g11th_read,\n",
    "        \"12th\": g12th_read\n",
    "})\n",
    "\n",
    "# Format the Average Reading Score by Grade Summary Dataframe\n",
    "read_scores_grade.index.name = None\n",
    "read_scores_grade[\"9th\"] = read_scores_grade[\"9th\"].map(\"{:.2f}\".format)\n",
    "read_scores_grade[\"10th\"] = read_scores_grade[\"10th\"].map(\"{:.2f}\".format)\n",
    "read_scores_grade[\"11th\"] = read_scores_grade[\"11th\"].map(\"{:.2f}\".format)\n",
    "read_scores_grade[\"12th\"] = read_scores_grade[\"12th\"].map(\"{:.2f}\".format)\n",
    "read_scores_grade"
   ]
  },
  {
   "cell_type": "markdown",
   "metadata": {},
   "source": [
    "## Scores by School Spending"
   ]
  },
  {
   "cell_type": "markdown",
   "metadata": {},
   "source": [
    "* Create a table that breaks down school performances based on average Spending Ranges (Per Student). Use 4 reasonable bins to group school spending. Include in the table each of the following:\n",
    "  * Average Math Score\n",
    "  * Average Reading Score\n",
    "  * % Passing Math\n",
    "  * % Passing Reading\n",
    "  * Overall Passing Rate (Average of the above two)"
   ]
  },
  {
   "cell_type": "code",
   "execution_count": 18,
   "metadata": {},
   "outputs": [
    {
     "output_type": "execute_result",
     "data": {
      "text/plain": [
       "School Type              object\n",
       "Total Students            int64\n",
       "Total School Budget      object\n",
       "Per Student Budget       object\n",
       "Average Math Score       object\n",
       "Average Reading Score    object\n",
       "% Passing Math           object\n",
       "% Passing Reading        object\n",
       "% Overall Passing        object\n",
       "dtype: object"
      ]
     },
     "metadata": {},
     "execution_count": 18
    }
   ],
   "source": [
    "# Check for types within school summary\n",
    "school_summary.dtypes"
   ]
  },
  {
   "cell_type": "code",
   "execution_count": 19,
   "metadata": {},
   "outputs": [],
   "source": [
    "# Use copy of school summary\n",
    "spend_range_bin=school_summary.copy()\n",
    "\n",
    "# For Bin Ranges\n",
    "spend_range_bin[\"Per Student Budget\"].min()\n",
    "spend_range_bin[\"Per Student Budget\"].max()\n",
    "\n",
    "# Convert my columns back to numbers to use for calculations\n",
    "spend_range_bin[\"Per Student Budget\"] = spend_range_bin[\"Per Student Budget\"].str.replace(\"$\", '', regex=True).astype('float')\n",
    "spend_range_bin[\"Average Math Score\"] = pd.to_numeric(spend_range_bin[\"Average Math Score\"])\n",
    "spend_range_bin[\"Average Reading Score\"] = pd.to_numeric(spend_range_bin[\"Average Reading Score\"])\n",
    "spend_range_bin[\"% Passing Math\"] = pd.to_numeric(spend_range_bin[\"% Passing Math\"])\n",
    "spend_range_bin[\"% Passing Reading\"] = pd.to_numeric(spend_range_bin[\"% Passing Reading\"])\n",
    "spend_range_bin[\"% Overall Passing\"] = pd.to_numeric(spend_range_bin[\"% Overall Passing\"])\n",
    "\n",
    "# Create my Bin Ranges\n",
    "spr_bins = [0, 584.99, 629.99, 644.99, 680]\n",
    "\n",
    "# Create my Bin Labels\n",
    "spr_bin_labels = [\"<$585\", \"$585-630\", \"$630-645\", \"$645-$680\"]\n",
    "\n",
    "# Create Spending Ranges (Per Student) column \n",
    "spend_range_bin[\"Spending Ranges (Per Student)\"] = pd.cut(spend_range_bin[\"Per Student Budget\"], bins = spr_bins, labels = spr_bin_labels)\n",
    "\n",
    "# Create a Spending Ranges groupby dataframe\n",
    "spend_range_gb = spend_range_bin.groupby([\"Spending Ranges (Per Student)\"])\n",
    "\n",
    "# Capture values to put in summary of spending ranges per student dataframe\n",
    "spr_avg_math_score = spend_range_gb[\"Average Math Score\"].mean()\n",
    "spr_avg_read_score = spend_range_gb[\"Average Reading Score\"].mean()\n",
    "spr_pass_math = spend_range_gb[\"% Passing Math\"].mean()\n",
    "spr_pass_read = spend_range_gb[\"% Passing Reading\"].mean()\n",
    "spr_pass_overall = spend_range_gb[\"% Overall Passing\"].mean()\n"
   ]
  },
  {
   "cell_type": "code",
   "execution_count": 20,
   "metadata": {},
   "outputs": [
    {
     "output_type": "execute_result",
     "data": {
      "text/plain": [
       "                              Average Math Score Average Reading Score  \\\n",
       "Spending Ranges (Per Student)                                            \n",
       "<$585                                      83.45                 83.93   \n",
       "$585-630                                   81.90                 83.16   \n",
       "$630-645                                   78.52                 81.62   \n",
       "$645-$680                                  77.00                 81.03   \n",
       "\n",
       "                              % Passing Math % Passing Reading  \\\n",
       "Spending Ranges (Per Student)                                    \n",
       "<$585                                  93.46             96.61   \n",
       "$585-630                               87.13             92.72   \n",
       "$630-645                               73.48             84.39   \n",
       "$645-$680                              66.16             81.13   \n",
       "\n",
       "                              % Overall Passing  \n",
       "Spending Ranges (Per Student)                    \n",
       "<$585                                     90.37  \n",
       "$585-630                                  81.42  \n",
       "$630-645                                  62.86  \n",
       "$645-$680                                 53.53  "
      ],
      "text/html": "<div>\n<style scoped>\n    .dataframe tbody tr th:only-of-type {\n        vertical-align: middle;\n    }\n\n    .dataframe tbody tr th {\n        vertical-align: top;\n    }\n\n    .dataframe thead th {\n        text-align: right;\n    }\n</style>\n<table border=\"1\" class=\"dataframe\">\n  <thead>\n    <tr style=\"text-align: right;\">\n      <th></th>\n      <th>Average Math Score</th>\n      <th>Average Reading Score</th>\n      <th>% Passing Math</th>\n      <th>% Passing Reading</th>\n      <th>% Overall Passing</th>\n    </tr>\n    <tr>\n      <th>Spending Ranges (Per Student)</th>\n      <th></th>\n      <th></th>\n      <th></th>\n      <th></th>\n      <th></th>\n    </tr>\n  </thead>\n  <tbody>\n    <tr>\n      <th>&lt;$585</th>\n      <td>83.45</td>\n      <td>83.93</td>\n      <td>93.46</td>\n      <td>96.61</td>\n      <td>90.37</td>\n    </tr>\n    <tr>\n      <th>$585-630</th>\n      <td>81.90</td>\n      <td>83.16</td>\n      <td>87.13</td>\n      <td>92.72</td>\n      <td>81.42</td>\n    </tr>\n    <tr>\n      <th>$630-645</th>\n      <td>78.52</td>\n      <td>81.62</td>\n      <td>73.48</td>\n      <td>84.39</td>\n      <td>62.86</td>\n    </tr>\n    <tr>\n      <th>$645-$680</th>\n      <td>77.00</td>\n      <td>81.03</td>\n      <td>66.16</td>\n      <td>81.13</td>\n      <td>53.53</td>\n    </tr>\n  </tbody>\n</table>\n</div>"
     },
     "metadata": {},
     "execution_count": 20
    }
   ],
   "source": [
    "# Create Spending Range per students Summary dataframe\n",
    "spend_range_std_sum = pd.DataFrame({\n",
    "        \"Average Math Score\": spr_avg_math_score,\n",
    "        \"Average Reading Score\": spr_avg_read_score,\n",
    "        \"% Passing Math\": spr_pass_math,\n",
    "        \"% Passing Reading\": spr_pass_read,\n",
    "        \"% Overall Passing\": spr_pass_overall,\n",
    "})\n",
    "\n",
    "# Format Spending Range per students Summary Dataframe\n",
    "spend_range_std_sum.index.name = \"Spending Ranges (Per Student)\"\n",
    "spend_range_std_sum[\"Average Math Score\"] = spend_range_std_sum[\"Average Math Score\"].map(\"{:.2f}\".format)\n",
    "spend_range_std_sum[\"Average Reading Score\"] = spend_range_std_sum[\"Average Reading Score\"].map(\"{:.2f}\".format)\n",
    "spend_range_std_sum[\"% Passing Math\"] = spend_range_std_sum[\"% Passing Math\"].map(\"{:.2f}\".format)\n",
    "spend_range_std_sum[\"% Passing Reading\"] = spend_range_std_sum[\"% Passing Reading\"].map(\"{:.2f}\".format)\n",
    "spend_range_std_sum[\"% Overall Passing\"] = spend_range_std_sum[\"% Overall Passing\"].map(\"{:.2f}\".format)\n",
    "spend_range_std_sum"
   ]
  },
  {
   "cell_type": "markdown",
   "metadata": {},
   "source": [
    "## Scores by School Size"
   ]
  },
  {
   "cell_type": "markdown",
   "metadata": {},
   "source": [
    "* Perform the same operations as above, based on school size."
   ]
  },
  {
   "cell_type": "code",
   "execution_count": 21,
   "metadata": {},
   "outputs": [],
   "source": [
    "# Use copy of school summary\n",
    "sch_size_bin=school_summary.copy()\n",
    "\n",
    "# Add school size column to dataframe\n",
    "sch_size_bin[\"Total Size\"] = school_data.set_index(\"school_name\")[\"size\"]\n",
    "\n",
    "# For Bin Ranges\n",
    "sch_size_bin[\"Total Size\"].min()\n",
    "sch_size_bin[\"Total Size\"].max()\n",
    "\n",
    "# Convert my columns back to numbers to use for calculations\n",
    "sch_size_bin[\"Average Math Score\"] = pd.to_numeric(sch_size_bin[\"Average Math Score\"])\n",
    "sch_size_bin[\"Average Reading Score\"] = pd.to_numeric(sch_size_bin[\"Average Reading Score\"])\n",
    "sch_size_bin[\"% Passing Math\"] = pd.to_numeric(sch_size_bin[\"% Passing Math\"])\n",
    "sch_size_bin[\"% Passing Reading\"] = pd.to_numeric(sch_size_bin[\"% Passing Reading\"])\n",
    "sch_size_bin[\"% Overall Passing\"] = pd.to_numeric(sch_size_bin[\"% Overall Passing\"])\n",
    "\n",
    "# Create my Bin Ranges\n",
    "ss_bins = [0, 999.99, 1999.99, 5000]\n",
    "\n",
    "# Create my Bin Labels\n",
    "ss_bin_labels = [\"Small (<1000)\", \"Medium (1000-2000)\", \"Large (2000-5000)\"]\n",
    "\n",
    "# Create School Size column \n",
    "sch_size_bin[\"School Size\"] = pd.cut(sch_size_bin[\"Total Size\"], bins = ss_bins, labels = ss_bin_labels)\n",
    "\n",
    "# Create a School Size groupby dataframe\n",
    "sch_size_gb = sch_size_bin.groupby([\"School Size\"])\n",
    "\n",
    "# Capture values to put in summary of school size dataframe\n",
    "ss_avg_math_score = sch_size_gb[\"Average Math Score\"].mean()\n",
    "ss_avg_read_score = sch_size_gb[\"Average Reading Score\"].mean()\n",
    "ss_pass_math = sch_size_gb[\"% Passing Math\"].mean()\n",
    "ss_pass_read = sch_size_gb[\"% Passing Reading\"].mean()\n",
    "ss_pass_overall = sch_size_gb[\"% Overall Passing\"].mean()"
   ]
  },
  {
   "cell_type": "code",
   "execution_count": 22,
   "metadata": {},
   "outputs": [
    {
     "output_type": "execute_result",
     "data": {
      "text/plain": [
       "                   Average Math Score Average Reading Score % Passing Math  \\\n",
       "School Size                                                                  \n",
       "Small (<1000)                   83.82                 83.93          93.55   \n",
       "Medium (1000-2000)              83.37                 83.87          93.60   \n",
       "Large (2000-5000)               77.74                 81.34          69.96   \n",
       "\n",
       "                   % Passing Reading % Overall Passing  \n",
       "School Size                                             \n",
       "Small (<1000)                  96.10             89.89  \n",
       "Medium (1000-2000)             96.79             90.62  \n",
       "Large (2000-5000)              82.77             58.29  "
      ],
      "text/html": "<div>\n<style scoped>\n    .dataframe tbody tr th:only-of-type {\n        vertical-align: middle;\n    }\n\n    .dataframe tbody tr th {\n        vertical-align: top;\n    }\n\n    .dataframe thead th {\n        text-align: right;\n    }\n</style>\n<table border=\"1\" class=\"dataframe\">\n  <thead>\n    <tr style=\"text-align: right;\">\n      <th></th>\n      <th>Average Math Score</th>\n      <th>Average Reading Score</th>\n      <th>% Passing Math</th>\n      <th>% Passing Reading</th>\n      <th>% Overall Passing</th>\n    </tr>\n    <tr>\n      <th>School Size</th>\n      <th></th>\n      <th></th>\n      <th></th>\n      <th></th>\n      <th></th>\n    </tr>\n  </thead>\n  <tbody>\n    <tr>\n      <th>Small (&lt;1000)</th>\n      <td>83.82</td>\n      <td>83.93</td>\n      <td>93.55</td>\n      <td>96.10</td>\n      <td>89.89</td>\n    </tr>\n    <tr>\n      <th>Medium (1000-2000)</th>\n      <td>83.37</td>\n      <td>83.87</td>\n      <td>93.60</td>\n      <td>96.79</td>\n      <td>90.62</td>\n    </tr>\n    <tr>\n      <th>Large (2000-5000)</th>\n      <td>77.74</td>\n      <td>81.34</td>\n      <td>69.96</td>\n      <td>82.77</td>\n      <td>58.29</td>\n    </tr>\n  </tbody>\n</table>\n</div>"
     },
     "metadata": {},
     "execution_count": 22
    }
   ],
   "source": [
    "# Create School Size Summary dataframe\n",
    "sch_size_sum = pd.DataFrame({\n",
    "        \"Average Math Score\": ss_avg_math_score,\n",
    "        \"Average Reading Score\": ss_avg_read_score,\n",
    "        \"% Passing Math\": ss_pass_math,\n",
    "        \"% Passing Reading\": ss_pass_read,\n",
    "        \"% Overall Passing\": ss_pass_overall,\n",
    "})\n",
    "\n",
    "# Format School Size Summary Dataframe\n",
    "sch_size_sum.index.name = \"School Size\"\n",
    "sch_size_sum[\"Average Math Score\"] = sch_size_sum[\"Average Math Score\"].map(\"{:.2f}\".format)\n",
    "sch_size_sum[\"Average Reading Score\"] = sch_size_sum[\"Average Reading Score\"].map(\"{:.2f}\".format)\n",
    "sch_size_sum[\"% Passing Math\"] = sch_size_sum[\"% Passing Math\"].map(\"{:.2f}\".format)\n",
    "sch_size_sum[\"% Passing Reading\"] = sch_size_sum[\"% Passing Reading\"].map(\"{:.2f}\".format)\n",
    "sch_size_sum[\"% Overall Passing\"] = sch_size_sum[\"% Overall Passing\"].map(\"{:.2f}\".format)\n",
    "sch_size_sum"
   ]
  },
  {
   "cell_type": "markdown",
   "metadata": {},
   "source": [
    "## Scores by School Type"
   ]
  },
  {
   "cell_type": "markdown",
   "metadata": {},
   "source": [
    "* Perform the same operations as above, based on school type"
   ]
  },
  {
   "cell_type": "code",
   "execution_count": 23,
   "metadata": {},
   "outputs": [],
   "source": [
    "# Use copy of school summary\n",
    "dst_type_bin=school_summary.copy()\n",
    "\n",
    "\n",
    "# Convert my columns back to numbers to use for calculations\n",
    "dst_type_bin[\"Average Math Score\"] = pd.to_numeric(dst_type_bin[\"Average Math Score\"])\n",
    "dst_type_bin[\"Average Reading Score\"] = pd.to_numeric(dst_type_bin[\"Average Reading Score\"])\n",
    "dst_type_bin[\"% Passing Math\"] = pd.to_numeric(dst_type_bin[\"% Passing Math\"])\n",
    "dst_type_bin[\"% Passing Reading\"] = pd.to_numeric(dst_type_bin[\"% Passing Reading\"])\n",
    "dst_type_bin[\"% Overall Passing\"] = pd.to_numeric(dst_type_bin[\"% Overall Passing\"])\n",
    "\n",
    "\n",
    "# Create a School Type groupby dataframe\n",
    "dst_type_gb = dst_type_bin.groupby([\"School Type\"])\n",
    "\n",
    "# Capture values to put in summary of School Type dataframe\n",
    "dst_avg_math_score = dst_type_gb[\"Average Math Score\"].mean()\n",
    "dst_avg_read_score = dst_type_gb[\"Average Reading Score\"].mean()\n",
    "dst_pass_math = dst_type_gb[\"% Passing Math\"].mean()\n",
    "dst_pass_read = dst_type_gb[\"% Passing Reading\"].mean()\n",
    "dst_pass_overall = dst_type_gb[\"% Overall Passing\"].mean()\n",
    "\n"
   ]
  },
  {
   "cell_type": "code",
   "execution_count": 24,
   "metadata": {},
   "outputs": [
    {
     "output_type": "execute_result",
     "data": {
      "text/plain": [
       "            Average Math Score Average Reading Score % Passing Math  \\\n",
       "School Type                                                           \n",
       "Charter                  83.47                 83.90          93.62   \n",
       "District                 76.96                 80.97          66.55   \n",
       "\n",
       "            % Passing Reading % Overall Passing  \n",
       "School Type                                      \n",
       "Charter                 96.59             90.43  \n",
       "District                80.80             53.67  "
      ],
      "text/html": "<div>\n<style scoped>\n    .dataframe tbody tr th:only-of-type {\n        vertical-align: middle;\n    }\n\n    .dataframe tbody tr th {\n        vertical-align: top;\n    }\n\n    .dataframe thead th {\n        text-align: right;\n    }\n</style>\n<table border=\"1\" class=\"dataframe\">\n  <thead>\n    <tr style=\"text-align: right;\">\n      <th></th>\n      <th>Average Math Score</th>\n      <th>Average Reading Score</th>\n      <th>% Passing Math</th>\n      <th>% Passing Reading</th>\n      <th>% Overall Passing</th>\n    </tr>\n    <tr>\n      <th>School Type</th>\n      <th></th>\n      <th></th>\n      <th></th>\n      <th></th>\n      <th></th>\n    </tr>\n  </thead>\n  <tbody>\n    <tr>\n      <th>Charter</th>\n      <td>83.47</td>\n      <td>83.90</td>\n      <td>93.62</td>\n      <td>96.59</td>\n      <td>90.43</td>\n    </tr>\n    <tr>\n      <th>District</th>\n      <td>76.96</td>\n      <td>80.97</td>\n      <td>66.55</td>\n      <td>80.80</td>\n      <td>53.67</td>\n    </tr>\n  </tbody>\n</table>\n</div>"
     },
     "metadata": {},
     "execution_count": 24
    }
   ],
   "source": [
    "# Create district Type School Summary dataframe\n",
    "dst_type_sum = pd.DataFrame({\n",
    "        \"Average Math Score\": dst_avg_math_score,\n",
    "        \"Average Reading Score\": dst_avg_read_score,\n",
    "        \"% Passing Math\": dst_pass_math,\n",
    "        \"% Passing Reading\": dst_pass_read,\n",
    "        \"% Overall Passing\": dst_pass_overall,\n",
    "})\n",
    "\n",
    "# Format district Type School Summary dataframe\n",
    "dst_type_sum.index.name = \"School Type\"\n",
    "dst_type_sum[\"Average Math Score\"] = dst_type_sum[\"Average Math Score\"].map(\"{:.2f}\".format)\n",
    "dst_type_sum[\"Average Reading Score\"] = dst_type_sum[\"Average Reading Score\"].map(\"{:.2f}\".format)\n",
    "dst_type_sum[\"% Passing Math\"] = dst_type_sum[\"% Passing Math\"].map(\"{:.2f}\".format)\n",
    "dst_type_sum[\"% Passing Reading\"] = dst_type_sum[\"% Passing Reading\"].map(\"{:.2f}\".format)\n",
    "dst_type_sum[\"% Overall Passing\"] = dst_type_sum[\"% Overall Passing\"].map(\"{:.2f}\".format)\n",
    "dst_type_sum"
   ]
  },
  {
   "cell_type": "code",
   "execution_count": null,
   "metadata": {},
   "outputs": [],
   "source": []
  }
 ],
 "metadata": {
  "anaconda-cloud": {},
  "kernel_info": {
   "name": "python3"
  },
  "kernelspec": {
   "name": "python3",
   "display_name": "Python 3.8.3 64-bit (conda)",
   "metadata": {
    "interpreter": {
     "hash": "0e5ce121db56a5ec0deef8ef7438a7526b76da6582754230316766150f629222"
    }
   }
  },
  "language_info": {
   "codemirror_mode": {
    "name": "ipython",
    "version": 3
   },
   "file_extension": ".py",
   "mimetype": "text/x-python",
   "name": "python",
   "nbconvert_exporter": "python",
   "pygments_lexer": "ipython3",
   "version": "3.8.3-final"
  },
  "latex_envs": {
   "LaTeX_envs_menu_present": true,
   "autoclose": false,
   "autocomplete": true,
   "bibliofile": "biblio.bib",
   "cite_by": "apalike",
   "current_citInitial": 1,
   "eqLabelWithNumbers": true,
   "eqNumInitial": 1,
   "hotkeys": {
    "equation": "Ctrl-E",
    "itemize": "Ctrl-I"
   },
   "labels_anchors": false,
   "latex_user_defs": false,
   "report_style_numbering": false,
   "user_envs_cfg": false
  },
  "nteract": {
   "version": "0.8.4"
  }
 },
 "nbformat": 4,
 "nbformat_minor": 1
}